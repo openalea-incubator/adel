{
 "cells": [
  {
   "cell_type": "markdown",
   "metadata": {},
   "source": [
    "# AdelWheat quickstart"
   ]
  },
  {
   "cell_type": "markdown",
   "metadata": {},
   "source": [
    "# Create a canopy"
   ]
  },
  {
   "cell_type": "code",
   "execution_count": null,
   "metadata": {
    "collapsed": false,
    "jupyter": {
     "outputs_hidden": false
    }
   },
   "outputs": [],
   "source": [
    "from alinea.adel.astk_interface import AdelWheat\n",
    "from oawidgets.plantgl import PlantGL\n",
    "\n",
    "# instantiate adel for two plants arraged on a line\n",
    "adel = AdelWheat(nplants=2, aspect='line')\n",
    "\n",
    "# generate a wheat canopy 300 degree.day after emergence \n",
    "g = adel.setup_canopy(300)"
   ]
  },
  {
   "cell_type": "markdown",
   "metadata": {},
   "source": [
    "# Display"
   ]
  },
  {
   "cell_type": "code",
   "execution_count": null,
   "metadata": {
    "collapsed": false,
    "jupyter": {
     "outputs_hidden": false
    }
   },
   "outputs": [],
   "source": [
    "# view the mtg content at scale 1\n",
    "g.display(max_scale=1)"
   ]
  },
  {
   "cell_type": "code",
   "execution_count": null,
   "metadata": {
    "collapsed": false,
    "jupyter": {
     "outputs_hidden": false
    }
   },
   "outputs": [],
   "source": [
    "# display the 3D generated scene\n",
    "PlantGL(adel.plot(g), side='double')"
   ]
  }
 ],
 "metadata": {
  "kernelspec": {
   "display_name": "Python 3 (ipykernel)",
   "language": "python",
   "name": "python3"
  },
  "language_info": {
   "codemirror_mode": {
    "name": "ipython",
    "version": 3
   },
   "file_extension": ".py",
   "mimetype": "text/x-python",
   "name": "python",
   "nbconvert_exporter": "python",
   "pygments_lexer": "ipython3",
   "version": "3.10.14"
  },
  "widgets": {
   "application/vnd.jupyter.widget-state+json": {
    "state": {
     "188df5f47b70445ca0fababbd161608a": {
      "buffers": [
       {
        "data": "",
        "encoding": "base64",
        "path": [
         "attribute",
         "data"
        ]
       },
       {
        "data": "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",
        "encoding": "base64",
        "path": [
         "color_map",
         "data"
        ]
       },
       {
        "data": "",
        "encoding": "base64",
        "path": [
         "colors",
         "data"
        ]
       },
       {
        "data": "AgAAAAEAAAAAAAAAAwAAAAQAAAAFAAAAAAAAAAUAAAAEAAAAAAAAAAQAAAACAAAAAgAAAAQAAAADAAAAAwAAAAEAAAACAAAAAQAAAAMAAAAFAAAABQAAAAAAAAABAAAACAAAAAcAAAAGAAAACQAAAAoAAAALAAAABgAAAAsAAAAKAAAABgAAAAoAAAAIAAAACAAAAAoAAAAJAAAACQAAAAcAAAAIAAAABwAAAAkAAAALAAAACwAAAAYAAAAHAAAA",
        "encoding": "base64",
        "path": [
         "indices",
         "data"
        ]
       },
       {
        "data": "AACAPwAAAAAAAAAAAAAAAAAAAAAAAIA/AAAAAAAAAAAAAAAAAAAAAAAAgD8AAAAAAAAAAAAAAAAAAAAAAACAPw==",
        "encoding": "base64",
        "path": [
         "model_matrix",
         "data"
        ]
       },
       {
        "data": "",
        "encoding": "base64",
        "path": [
         "normals",
         "data"
        ]
       },
       {
        "data": "",
        "encoding": "base64",
        "path": [
         "opacity_function",
         "data"
        ]
       },
       {
        "data": "",
        "encoding": "base64",
        "path": [
         "triangles_attribute",
         "data"
        ]
       },
       {
        "data": "AADAfw==",
        "encoding": "base64",
        "path": [
         "uvs",
         "data"
        ]
       },
       {
        "data": "i2Cfv5PdzTyDcJo7oRmzv6Pogj3AmSG704Wtvwdgtr1HRxO7miTEvzw5W70wIQ5AhGuwv9wNvb3Plg5AUv+1v5x1eD06kw5AUtezP3j+ar2YHgQ7KXGsP7nguT2RseO6hbefP/vCCL13LpK5DD2eP6zH1D0zcw5ANKOlP5IwNb2wsA5A2FyyP+6poz3MmA5A",
        "encoding": "base64",
        "path": [
         "vertices",
         "data"
        ]
       },
       {
        "data": "",
        "encoding": "base64",
        "path": [
         "volume",
         "data"
        ]
       },
       {
        "data": "",
        "encoding": "base64",
        "path": [
         "volume_bounds",
         "data"
        ]
       }
      ],
      "model_module": "k3d",
      "model_module_version": "2.16.1",
      "model_name": "ObjectModel",
      "state": {
       "_view_module": null,
       "_view_module_version": "",
       "_view_name": null,
       "attribute": {
        "dtype": "float32",
        "shape": [
         0
        ]
       },
       "click_callback": false,
       "color": 33280,
       "colorLegend": false,
       "color_map": {
        "dtype": "float32",
        "shape": [
         1024
        ]
       },
       "color_range": [],
       "colors": {
        "dtype": "uint32",
        "shape": [
         0
        ]
       },
       "compression_level": 0,
       "custom_data": null,
       "flat_shading": true,
       "group": null,
       "hover_callback": false,
       "id": 131806343682016,
       "indices": {
        "dtype": "uint32",
        "shape": [
         16,
         3
        ]
       },
       "model_matrix": {
        "dtype": "float32",
        "shape": [
         4,
         4
        ]
       },
       "name": "Mesh #1",
       "normals": {
        "dtype": "float32",
        "shape": [
         0
        ]
       },
       "opacity": 1,
       "opacity_function": {
        "dtype": "float32",
        "shape": [
         0
        ]
       },
       "side": "front",
       "texture": null,
       "texture_file_format": null,
       "triangles_attribute": {
        "dtype": "float32",
        "shape": [
         0
        ]
       },
       "type": "Mesh",
       "uvs": {
        "dtype": "float32",
        "shape": []
       },
       "vertices": {
        "dtype": "float32",
        "shape": [
         12,
         3
        ]
       },
       "visible": true,
       "volume": {
        "dtype": "float32",
        "shape": [
         0
        ]
       },
       "volume_bounds": {
        "dtype": "float32",
        "shape": [
         0
        ]
       },
       "wireframe": false
      }
     },
     "22214fe0fcbe40d29f49047127f318f4": {
      "buffers": [
       {
        "data": "",
        "encoding": "base64",
        "path": [
         "attribute",
         "data"
        ]
       },
       {
        "data": "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",
        "encoding": "base64",
        "path": [
         "color_map",
         "data"
        ]
       },
       {
        "data": "",
        "encoding": "base64",
        "path": [
         "colors",
         "data"
        ]
       },
       {
        "data": "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",
        "encoding": "base64",
        "path": [
         "indices",
         "data"
        ]
       },
       {
        "data": "AACAPwAAAAAAAAAAAAAAAAAAAAAAAIA/AAAAAAAAAAAAAAAAAAAAAAAAgD8AAAAAAAAAAAAAAAAAAAAAAACAPw==",
        "encoding": "base64",
        "path": [
         "model_matrix",
         "data"
        ]
       },
       {
        "data": "",
        "encoding": "base64",
        "path": [
         "normals",
         "data"
        ]
       },
       {
        "data": "",
        "encoding": "base64",
        "path": [
         "opacity_function",
         "data"
        ]
       },
       {
        "data": "",
        "encoding": "base64",
        "path": [
         "triangles_attribute",
         "data"
        ]
       },
       {
        "data": "AADAfw==",
        "encoding": "base64",
        "path": [
         "uvs",
         "data"
        ]
       },
       {
        "data": "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",
        "encoding": "base64",
        "path": [
         "vertices",
         "data"
        ]
       },
       {
        "data": "",
        "encoding": "base64",
        "path": [
         "volume",
         "data"
        ]
       },
       {
        "data": "",
        "encoding": "base64",
        "path": [
         "volume_bounds",
         "data"
        ]
       }
      ],
      "model_module": "k3d",
      "model_module_version": "2.16.1",
      "model_name": "ObjectModel",
      "state": {
       "_view_module": null,
       "_view_module_version": "",
       "_view_name": null,
       "attribute": {
        "dtype": "float32",
        "shape": [
         0
        ]
       },
       "click_callback": false,
       "color": 46080,
       "colorLegend": false,
       "color_map": {
        "dtype": "float32",
        "shape": [
         1024
        ]
       },
       "color_range": [],
       "colors": {
        "dtype": "uint32",
        "shape": [
         0
        ]
       },
       "compression_level": 0,
       "custom_data": null,
       "flat_shading": true,
       "group": null,
       "hover_callback": false,
       "id": 131806343690752,
       "indices": {
        "dtype": "uint32",
        "shape": [
         183,
         3
        ]
       },
       "model_matrix": {
        "dtype": "float32",
        "shape": [
         4,
         4
        ]
       },
       "name": "Mesh #2",
       "normals": {
        "dtype": "float32",
        "shape": [
         0
        ]
       },
       "opacity": 1,
       "opacity_function": {
        "dtype": "float32",
        "shape": [
         0
        ]
       },
       "side": "front",
       "texture": null,
       "texture_file_format": null,
       "triangles_attribute": {
        "dtype": "float32",
        "shape": [
         0
        ]
       },
       "type": "Mesh",
       "uvs": {
        "dtype": "float32",
        "shape": []
       },
       "vertices": {
        "dtype": "float32",
        "shape": [
         222,
         3
        ]
       },
       "visible": true,
       "volume": {
        "dtype": "float32",
        "shape": [
         0
        ]
       },
       "volume_bounds": {
        "dtype": "float32",
        "shape": [
         0
        ]
       },
       "wireframe": false
      }
     },
     "25efd05b34814c8bafcac606268e6449": {
      "model_module": "@jupyter-widgets/base",
      "model_module_version": "2.0.0",
      "model_name": "LayoutModel",
      "state": {}
     },
     "9ef5d41977854e12a8543d40d4ee3866": {
      "model_module": "k3d",
      "model_module_version": "2.16.1",
      "model_name": "PlotModel",
      "state": {
       "_backend_version": "2.16.1",
       "antialias": 3,
       "auto_rendering": true,
       "axes": [
        "x",
        "y",
        "z"
       ],
       "axes_helper": 1,
       "axes_helper_colors": [
        16711680,
        65280,
        255
       ],
       "background_color": 16777215,
       "camera": [
        9.713267833728667,
        -13.976804004220776,
        6.59253383733225,
        -0.09998905658721924,
        0.7430813312530518,
        5.611208148300648,
        0,
        0,
        1
       ],
       "camera_animation": [],
       "camera_auto_fit": true,
       "camera_damping_factor": 0,
       "camera_fov": 60,
       "camera_mode": "trackball",
       "camera_no_pan": false,
       "camera_no_rotate": false,
       "camera_no_zoom": false,
       "camera_pan_speed": 0.3,
       "camera_rotate_speed": 1,
       "camera_zoom_speed": 1.2,
       "clipping_planes": [],
       "colorbar_object_id": -1,
       "colorbar_scientific": false,
       "custom_data": null,
       "fps": 25,
       "fps_meter": false,
       "grid": [
        -1,
        -1,
        -1,
        1,
        1,
        1
       ],
       "grid_auto_fit": true,
       "grid_color": 15132390,
       "grid_visible": true,
       "height": 512,
       "label_color": 4473924,
       "layout": "IPY_MODEL_25efd05b34814c8bafcac606268e6449",
       "lighting": 3,
       "logarithmic_depth_buffer": true,
       "manipulate_mode": "translate",
       "menu_visibility": true,
       "minimum_fps": -1,
       "mode": "view",
       "name": null,
       "object_ids": [
        131806343682016,
        131806343690752
       ],
       "rendering_steps": 1,
       "screenshot": "",
       "screenshot_scale": 2,
       "snapshot": "",
       "snapshot_type": "full",
       "time": 0,
       "voxel_paint_color": 0
      }
     }
    },
    "version_major": 2,
    "version_minor": 0
   }
  }
 },
 "nbformat": 4,
 "nbformat_minor": 4
}
